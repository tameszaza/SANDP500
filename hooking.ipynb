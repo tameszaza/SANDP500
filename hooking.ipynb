{
 "cells": [
  {
   "cell_type": "code",
   "execution_count": 1,
   "metadata": {},
   "outputs": [
    {
     "name": "stdout",
     "output_type": "stream",
     "text": [
      "                                Open       High        Low      Close  Volume  \\\n",
      "Date                                                                            \n",
      "1928-03-13 00:00:00-05:00  17.920000  17.920000  17.920000  17.920000       0   \n",
      "1928-03-14 00:00:00-05:00  17.930000  17.930000  17.930000  17.930000       0   \n",
      "1928-03-15 00:00:00-05:00  18.070000  18.070000  18.070000  18.070000       0   \n",
      "1928-03-16 00:00:00-05:00  18.260000  18.260000  18.260000  18.260000       0   \n",
      "1928-03-19 00:00:00-05:00  18.360001  18.360001  18.360001  18.360001       0   \n",
      "\n",
      "                           Dividends  Stock Splits   SMA_20   SMA_50  \\\n",
      "Date                                                                   \n",
      "1928-03-13 00:00:00-05:00        0.0           0.0  17.4020  17.4730   \n",
      "1928-03-14 00:00:00-05:00        0.0           0.0  17.4265  17.4784   \n",
      "1928-03-15 00:00:00-05:00        0.0           0.0  17.4600  17.4846   \n",
      "1928-03-16 00:00:00-05:00        0.0           0.0  17.5055  17.4954   \n",
      "1928-03-19 00:00:00-05:00        0.0           0.0  17.5715  17.5116   \n",
      "\n",
      "                              EMA_20     EMA_50        RSI      MACD  \\\n",
      "Date                                                                   \n",
      "1928-03-13 00:00:00-05:00  17.543192  17.503567  65.755873  0.117815   \n",
      "1928-03-14 00:00:00-05:00  17.580031  17.520290  66.019171  0.132710   \n",
      "1928-03-15 00:00:00-05:00  17.626695  17.541847  69.549065  0.154036   \n",
      "1928-03-16 00:00:00-05:00  17.687010  17.570010  73.562862  0.184146   \n",
      "1928-03-19 00:00:00-05:00  17.751104  17.600990  75.400708  0.213615   \n",
      "\n",
      "                           MACD_Signal  MACD_Diff  \n",
      "Date                                               \n",
      "1928-03-13 00:00:00-05:00     0.028454   0.089360  \n",
      "1928-03-14 00:00:00-05:00     0.049306   0.083405  \n",
      "1928-03-15 00:00:00-05:00     0.070252   0.083785  \n",
      "1928-03-16 00:00:00-05:00     0.093030   0.091115  \n",
      "1928-03-19 00:00:00-05:00     0.117147   0.096467  \n"
     ]
    }
   ],
   "source": [
    "import yfinance as yf\n",
    "import pandas as pd\n",
    "import numpy as np\n",
    "import ta\n",
    "\n",
    "# Download historical data for S&P 500\n",
    "sp500 = yf.Ticker(\"^GSPC\")\n",
    "data = sp500.history(period=\"max\")\n",
    "\n",
    "# Calculate Simple Moving Averages (SMA)\n",
    "data['SMA_20'] = data['Close'].rolling(window=20).mean()\n",
    "data['SMA_50'] = data['Close'].rolling(window=50).mean()\n",
    "\n",
    "# Calculate Exponential Moving Averages (EMA)\n",
    "data['EMA_20'] = data['Close'].ewm(span=20, adjust=False).mean()\n",
    "data['EMA_50'] = data['Close'].ewm(span=50, adjust=False).mean()\n",
    "\n",
    "# Calculate Relative Strength Index (RSI)\n",
    "data['RSI'] = ta.momentum.RSIIndicator(data['Close'], window=14).rsi()\n",
    "\n",
    "# Calculate Moving Average Convergence Divergence (MACD)\n",
    "macd = ta.trend.MACD(data['Close'])\n",
    "data['MACD'] = macd.macd()\n",
    "data['MACD_Signal'] = macd.macd_signal()\n",
    "data['MACD_Diff'] = macd.macd_diff()\n",
    "\n",
    "# Drop rows with NaN values\n",
    "data.dropna(inplace=True)\n",
    "\n",
    "# Save to CSV\n",
    "data.to_csv('sp500_with_indicators.csv')\n",
    "\n",
    "# Display the first few rows of the data\n",
    "print(data.head())\n"
   ]
  }
 ],
 "metadata": {
  "kernelspec": {
   "display_name": "Python 3",
   "language": "python",
   "name": "python3"
  },
  "language_info": {
   "codemirror_mode": {
    "name": "ipython",
    "version": 3
   },
   "file_extension": ".py",
   "mimetype": "text/x-python",
   "name": "python",
   "nbconvert_exporter": "python",
   "pygments_lexer": "ipython3",
   "version": "3.11.9"
  }
 },
 "nbformat": 4,
 "nbformat_minor": 2
}
